{
  "nbformat": 4,
  "nbformat_minor": 0,
  "metadata": {
    "colab": {
      "name": "5-14.ipynb",
      "provenance": [],
      "collapsed_sections": [],
      "authorship_tag": "ABX9TyNMdCrUbwPW1acSagABuNWJ",
      "include_colab_link": true
    },
    "kernelspec": {
      "name": "python3",
      "display_name": "Python 3"
    },
    "language_info": {
      "name": "python"
    }
  },
  "cells": [
    {
      "cell_type": "markdown",
      "metadata": {
        "id": "view-in-github",
        "colab_type": "text"
      },
      "source": [
        "<a href=\"https://colab.research.google.com/github/Giry0316/OMock-/blob/master/5_14.ipynb\" target=\"_parent\"><img src=\"https://colab.research.google.com/assets/colab-badge.svg\" alt=\"Open In Colab\"/></a>"
      ]
    },
    {
      "cell_type": "code",
      "source": [
        "a = 365\n",
        "print(\"일년은 \",a,\"일 입니다\")\n",
        "\n"
      ],
      "metadata": {
        "colab": {
          "base_uri": "https://localhost:8080/"
        },
        "id": "d1PN3z9wK3rS",
        "outputId": "41226d2e-b9d5-41c6-90ff-c46c291ff867"
      },
      "execution_count": 13,
      "outputs": [
        {
          "output_type": "stream",
          "name": "stdout",
          "text": [
            "일년은  365 일 입니다\n"
          ]
        }
      ]
    },
    {
      "cell_type": "code",
      "source": [
        "c = 10\n",
        "\n",
        "b = a+ c\n",
        "\n",
        "b"
      ],
      "metadata": {
        "colab": {
          "base_uri": "https://localhost:8080/"
        },
        "id": "YGeor-HoPRUy",
        "outputId": "ca05fc8f-7940-4dd3-a8cf-1e22e671718f"
      },
      "execution_count": 14,
      "outputs": [
        {
          "output_type": "execute_result",
          "data": {
            "text/plain": [
              "375"
            ]
          },
          "metadata": {},
          "execution_count": 14
        }
      ]
    },
    {
      "cell_type": "code",
      "source": [
        "a0 = 1\n",
        "a1 = 2\n",
        "a2 = 3\n",
        "print(a0, a1, a2)\n",
        "print(\"a = %d\" % a)"
      ],
      "metadata": {
        "colab": {
          "base_uri": "https://localhost:8080/"
        },
        "id": "YhcXVlw_PZGS",
        "outputId": "0c9c22ea-9920-41ef-a8eb-5d6317cadd0a"
      },
      "execution_count": 16,
      "outputs": [
        {
          "output_type": "stream",
          "name": "stdout",
          "text": [
            "1 2 3\n",
            "a = 365\n"
          ]
        }
      ]
    },
    {
      "cell_type": "code",
      "source": [
        "a = [1, 2, 3] #a는 배열\n",
        "\n",
        "print(a)"
      ],
      "metadata": {
        "colab": {
          "base_uri": "https://localhost:8080/"
        },
        "id": "7Kq7AoftQPFi",
        "outputId": "839f83de-7ba2-40c0-bce5-c72c97118c45"
      },
      "execution_count": 22,
      "outputs": [
        {
          "output_type": "stream",
          "name": "stdout",
          "text": [
            "[1, 2, 3]\n",
            "1 2 3\n"
          ]
        }
      ]
    },
    {
      "cell_type": "code",
      "source": [
        "#배열 원소를 가리킬 떄\n",
        "print(a[0]) \n",
        "\n",
        "print(a[0], a[1], a[2])\n",
        "\n",
        "print(a[0])\n",
        "print(a[1])\n",
        "print(a[2])\n",
        "\n",
        "# i = a[0]\n",
        "\n",
        "for i in a :\n",
        "  print(i);\n",
        "  "
      ],
      "metadata": {
        "id": "dYZEt5w1RisC"
      },
      "execution_count": null,
      "outputs": []
    },
    {
      "cell_type": "code",
      "source": [
        "arr = [[1,2,3],\n",
        "       [4,5,6],\n",
        "       [7,8,9]]\n",
        "\n",
        "print(arr)\n",
        "\n",
        "print(arr[0], arr[1])\n",
        "print(arr[0][0], arr[0][1], arr[0][2], \n",
        "      arr[1][0], arr[1][1], arr[1][2], \n",
        "      arr[2][0], arr[2][1], arr[2][2], )"
      ],
      "metadata": {
        "colab": {
          "base_uri": "https://localhost:8080/"
        },
        "id": "-djdI8NeV297",
        "outputId": "2353c13e-c4bf-4cce-88eb-24619f3b1465"
      },
      "execution_count": 49,
      "outputs": [
        {
          "output_type": "stream",
          "name": "stdout",
          "text": [
            "[[1, 2, 3], [4, 5, 6], [7, 8, 9]]\n",
            "[1, 2, 3] [4, 5, 6]\n",
            "1 2 3 4 5 6 7 8 9\n"
          ]
        }
      ]
    },
    {
      "cell_type": "code",
      "source": [
        "for row in arr:\n",
        "  for col in row:\n",
        "    print(col)"
      ],
      "metadata": {
        "colab": {
          "base_uri": "https://localhost:8080/"
        },
        "id": "TsNkhUFKY2ry",
        "outputId": "8d461e1f-80ff-49a0-a946-9d9c8e478679"
      },
      "execution_count": 54,
      "outputs": [
        {
          "output_type": "stream",
          "name": "stdout",
          "text": [
            "1\n",
            "2\n",
            "3\n",
            "4\n",
            "5\n",
            "6\n",
            "7\n",
            "8\n",
            "9\n"
          ]
        }
      ]
    },
    {
      "cell_type": "code",
      "source": [
        "import numpy as np\n",
        "anp = np.array(a)\n",
        "print(anp)\n",
        "anp"
      ],
      "metadata": {
        "colab": {
          "base_uri": "https://localhost:8080/"
        },
        "id": "hQ4gG8GpaxDk",
        "outputId": "fc15752b-2f93-466d-f5ce-5c2b92833893"
      },
      "execution_count": 62,
      "outputs": [
        {
          "output_type": "stream",
          "name": "stdout",
          "text": [
            "[1 2 3]\n"
          ]
        },
        {
          "output_type": "execute_result",
          "data": {
            "text/plain": [
              "array([1, 2, 3])"
            ]
          },
          "metadata": {},
          "execution_count": 62
        }
      ]
    },
    {
      "cell_type": "code",
      "source": [
        "anp[0]"
      ],
      "metadata": {
        "id": "oE7ccq56eVVr"
      },
      "execution_count": null,
      "outputs": []
    },
    {
      "cell_type": "code",
      "source": [
        "anp2 = np.array(arr)\n"
      ],
      "metadata": {
        "id": "f1UAekiKeXSB"
      },
      "execution_count": 66,
      "outputs": []
    },
    {
      "cell_type": "code",
      "source": [
        "anp2[0,2]"
      ],
      "metadata": {
        "colab": {
          "base_uri": "https://localhost:8080/"
        },
        "id": "BWyUI2K0eqy6",
        "outputId": "59920b46-9ffb-4e2f-b042-528d9311b7a0"
      },
      "execution_count": 68,
      "outputs": [
        {
          "output_type": "execute_result",
          "data": {
            "text/plain": [
              "3"
            ]
          },
          "metadata": {},
          "execution_count": 68
        }
      ]
    },
    {
      "cell_type": "code",
      "source": [
        "vec = np.arange(10) #0에서 출발해서 n-1값으로 끝남 \n",
        "vec\n"
      ],
      "metadata": {
        "colab": {
          "base_uri": "https://localhost:8080/"
        },
        "id": "ZlSLdt84f6XK",
        "outputId": "548f7617-1d81-4c09-a247-49e2b24b5edf"
      },
      "execution_count": 72,
      "outputs": [
        {
          "output_type": "execute_result",
          "data": {
            "text/plain": [
              "array([0, 1, 2, 3, 4, 5, 6, 7, 8, 9])"
            ]
          },
          "metadata": {},
          "execution_count": 72
        }
      ]
    },
    {
      "cell_type": "code",
      "source": [
        "vec2 = np.arange(3, 10) #n1값에서 시작해서 n2 - 1값까지 출력\n",
        "vec2"
      ],
      "metadata": {
        "colab": {
          "base_uri": "https://localhost:8080/"
        },
        "id": "zsrZ2lmcgoLA",
        "outputId": "64b74c08-47b1-4e5a-bf2a-59f38181a6a5"
      },
      "execution_count": 75,
      "outputs": [
        {
          "output_type": "execute_result",
          "data": {
            "text/plain": [
              "array([3, 4, 5, 6, 7, 8, 9])"
            ]
          },
          "metadata": {},
          "execution_count": 75
        }
      ]
    },
    {
      "cell_type": "code",
      "source": [
        "vec3 = np.arange(3,10,2)#n1값에서 시작해서 n3 간격으로 n2 - 1값까지 출력\n",
        "vec3\n"
      ],
      "metadata": {
        "colab": {
          "base_uri": "https://localhost:8080/"
        },
        "id": "pdTjeUmqhEXp",
        "outputId": "d2a9c31d-370e-47b3-8b7c-043c66e8de40"
      },
      "execution_count": 77,
      "outputs": [
        {
          "output_type": "execute_result",
          "data": {
            "text/plain": [
              "array([3, 5, 7, 9])"
            ]
          },
          "metadata": {},
          "execution_count": 77
        }
      ]
    },
    {
      "cell_type": "code",
      "source": [
        "np.arange(10,2, -1) #n1값이 n2보다 클때(n1 > n2) n1값에서부터 n2값까지 n3만큼 감소 (이때 n3를 적어야하고, n3는 음수여야함)"
      ],
      "metadata": {
        "colab": {
          "base_uri": "https://localhost:8080/"
        },
        "id": "DdXj0QIHhZNq",
        "outputId": "8223da1f-69e2-444d-c180-00427e5c7caf"
      },
      "execution_count": 83,
      "outputs": [
        {
          "output_type": "execute_result",
          "data": {
            "text/plain": [
              "array([10,  9,  8,  7,  6,  5,  4,  3])"
            ]
          },
          "metadata": {},
          "execution_count": 83
        }
      ]
    },
    {
      "cell_type": "code",
      "source": [
        "#백터 크기 계산\n",
        "v = np.arange(3,5)# v값 정의\n",
        "vsquare = np.square(v)# v값 제곱\n",
        "vsum = np.sum(vsquare)# vsquare값 총합\n",
        "vroot = np.sqrt(vsum)# vsum 루트\n",
        "vroot"
      ],
      "metadata": {
        "colab": {
          "base_uri": "https://localhost:8080/"
        },
        "id": "_TCC7_Wwh-WA",
        "outputId": "c86b12b5-dd25-4374-96ab-2150e7fc330b"
      },
      "execution_count": 97,
      "outputs": [
        {
          "output_type": "execute_result",
          "data": {
            "text/plain": [
              "5.0"
            ]
          },
          "metadata": {},
          "execution_count": 97
        }
      ]
    },
    {
      "cell_type": "code",
      "source": [
        "#square, sum, sqrt를 한꺼번에 계산하는 방법\n",
        "#두개의 자료(밑변, 높이)에 한하여 가능\n",
        "np.hypot(v[0], v[1])"
      ],
      "metadata": {
        "colab": {
          "base_uri": "https://localhost:8080/"
        },
        "id": "BnjK1yv1jzM5",
        "outputId": "c48c4aa4-00af-4c40-ce6b-d314c440fbbf"
      },
      "execution_count": 100,
      "outputs": [
        {
          "output_type": "execute_result",
          "data": {
            "text/plain": [
              "5.0"
            ]
          },
          "metadata": {},
          "execution_count": 100
        }
      ]
    },
    {
      "cell_type": "code",
      "source": [
        "# 두 개 이상의 자료에도 계산하는 명령어\n",
        "np.linalg.norm(v)"
      ],
      "metadata": {
        "colab": {
          "base_uri": "https://localhost:8080/"
        },
        "id": "dNGAFCOHkR35",
        "outputId": "a0abf361-7467-4bfd-ba88-dcf2333b729c"
      },
      "execution_count": 102,
      "outputs": [
        {
          "output_type": "execute_result",
          "data": {
            "text/plain": [
              "5.0"
            ]
          },
          "metadata": {},
          "execution_count": 102
        }
      ]
    },
    {
      "cell_type": "code",
      "source": [
        "#단위 벡터\n",
        "e1 = np.array([1,0,0])\n",
        "\n",
        "np.linalg.norm(e1)"
      ],
      "metadata": {
        "colab": {
          "base_uri": "https://localhost:8080/"
        },
        "id": "o7GPiTCRkcoo",
        "outputId": "53f9b39c-6e87-43f1-b254-0a3a6c199018"
      },
      "execution_count": 111,
      "outputs": [
        {
          "output_type": "execute_result",
          "data": {
            "text/plain": [
              "1.0"
            ]
          },
          "metadata": {},
          "execution_count": 111
        }
      ]
    },
    {
      "cell_type": "code",
      "source": [
        "e2 = np.array([0,1,0])\n",
        "\n",
        "np.linalg.norm(e2)"
      ],
      "metadata": {
        "colab": {
          "base_uri": "https://localhost:8080/"
        },
        "id": "LgVIRmxWlsa6",
        "outputId": "731e3bd3-0bec-4936-af7f-d950eafc0745"
      },
      "execution_count": 112,
      "outputs": [
        {
          "output_type": "execute_result",
          "data": {
            "text/plain": [
              "1.0"
            ]
          },
          "metadata": {},
          "execution_count": 112
        }
      ]
    },
    {
      "cell_type": "code",
      "source": [
        "e3 = np.array([0,0,1])\n",
        "\n",
        "np.linalg.norm(e3)"
      ],
      "metadata": {
        "colab": {
          "base_uri": "https://localhost:8080/"
        },
        "id": "oxSNpy85lzpK",
        "outputId": "7cfddee8-0f58-4e5e-d41a-479f76c45c88"
      },
      "execution_count": 115,
      "outputs": [
        {
          "output_type": "execute_result",
          "data": {
            "text/plain": [
              "1.0"
            ]
          },
          "metadata": {},
          "execution_count": 115
        }
      ]
    },
    {
      "cell_type": "code",
      "source": [
        "v_3 = np.array([1,2,3])\n",
        "v_3n = np.linalg.norm(v_3)"
      ],
      "metadata": {
        "id": "pf81WOQfmNGp"
      },
      "execution_count": 120,
      "outputs": []
    },
    {
      "cell_type": "code",
      "source": [
        "#단위 벡터를 구한값\n",
        "v_3u = v_3 / v_3n\n",
        "v_3u"
      ],
      "metadata": {
        "colab": {
          "base_uri": "https://localhost:8080/"
        },
        "id": "jAIVDNXkmlbq",
        "outputId": "b21083f0-5d08-48d1-b198-3402e2e35dcf"
      },
      "execution_count": 122,
      "outputs": [
        {
          "output_type": "execute_result",
          "data": {
            "text/plain": [
              "array([0.26726124, 0.53452248, 0.80178373])"
            ]
          },
          "metadata": {},
          "execution_count": 122
        }
      ]
    }
  ]
}